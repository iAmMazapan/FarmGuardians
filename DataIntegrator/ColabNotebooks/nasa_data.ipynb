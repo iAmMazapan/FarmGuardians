{
  "nbformat": 4,
  "nbformat_minor": 0,
  "metadata": {
    "colab": {
      "provenance": [],
      "toc_visible": true
    },
    "kernelspec": {
      "name": "python3",
      "display_name": "Python 3"
    },
    "language_info": {
      "name": "python"
    }
  },
  "cells": [
    {
      "cell_type": "code",
      "execution_count": null,
      "metadata": {
        "id": "lceyhmGZaSQY"
      },
      "outputs": [],
      "source": []
    },
    {
      "cell_type": "markdown",
      "source": [
        "# Análisis de NDVI y Temperatura en Cusco, Perú\n",
        "\n",
        "Este notebook permite extraer y analizar datos satelitales de vegetación (NDVI) y temperatura para la región de Cusco, Perú, usando Google Earth Engine. Cada sección incluye explicación y código paso a paso.\n"
      ],
      "metadata": {
        "id": "BBXDTEoVbNRv"
      }
    },
    {
      "cell_type": "markdown",
      "source": [
        "\n",
        "# Paso 1: Montar Google Drive\n",
        "\n",
        "En este paso montaremos Google Drive en Colab. Esto permite:\n",
        "\n",
        "- Guardar archivos generados, como CSV con datos de NDVI y temperatura.\n",
        "- Acceder a archivos que tengas en tu Drive, por ejemplo GeoJSON con áreas de estudio.\n",
        "- Mantener los archivos disponibles mientras trabajamos en el notebook.\n"
      ],
      "metadata": {
        "id": "zu8xYhszbmX_"
      }
    },
    {
      "cell_type": "code",
      "source": [
        "from google.colab import drive\n",
        "drive.mount('/content/drive/')"
      ],
      "metadata": {
        "colab": {
          "base_uri": "https://localhost:8080/"
        },
        "id": "iKHXdZ5QcLok",
        "outputId": "5b0f7cea-ae19-4a14-eda2-10d9aef80521"
      },
      "execution_count": null,
      "outputs": [
        {
          "output_type": "stream",
          "name": "stdout",
          "text": [
            "Mounted at /content/drive/\n"
          ]
        }
      ]
    },
    {
      "cell_type": "markdown",
      "source": [
        "# Paso 2: Instalar y cargar librerías necesarias\n",
        "\n",
        "Vamos a usar varias librerías:\n",
        "\n",
        "- `ee` y `geemap` → para trabajar con Google Earth Engine.\n",
        "- `pandas` y `numpy` → para manipular datos.\n",
        "- `matplotlib` → para graficar NDVI y temperatura.\n",
        "- `scipy.signal.savgol_filter` → para suavizar series de NDVI si hay ruido.\n",
        "\n",
        "Primero instalamos las librerías necesarias y luego las importamos en Python.\n"
      ],
      "metadata": {
        "id": "ipuwyZs7cc5K"
      }
    },
    {
      "cell_type": "code",
      "source": [
        "# Instalar las librerías desde el requirements.txt local\n",
        "!pip install -r FarmGuardians/DataIntegrator/requirements.txt\n",
        "\n",
        "# Importar las librerías\n",
        "import ee\n",
        "import geemap\n",
        "import pandas as pd\n",
        "import numpy as np\n",
        "import matplotlib.pyplot as plt\n",
        "from scipy.signal import savgol_filter"
      ],
      "metadata": {
        "id": "24cHpwLvdkbJ",
        "outputId": "94d43cff-1866-4c7c-cff6-c443054f6d5d",
        "colab": {
          "base_uri": "https://localhost:8080/",
          "height": 34
        }
      },
      "execution_count": null,
      "outputs": [
        {
          "output_type": "stream",
          "name": "stdout",
          "text": [
            "\u001b[31mERROR: Could not open requirements file: [Errno 2] No such file or directory: 'FarmGuardians/DataIntegrator/requirements.txt'\u001b[0m\u001b[31m\n",
            "\u001b[0m"
          ]
        }
      ]
    },
    {
      "cell_type": "code",
      "source": [],
      "metadata": {
        "id": "65Bm2P6TeBhh"
      },
      "execution_count": null,
      "outputs": []
    }
  ]
}